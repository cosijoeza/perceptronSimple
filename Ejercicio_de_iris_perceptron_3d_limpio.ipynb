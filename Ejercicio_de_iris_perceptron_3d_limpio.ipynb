{
 "cells": [
  {
   "cell_type": "markdown",
   "metadata": {
    "colab_type": "text",
    "id": "8dxHAHW15hq2"
   },
   "source": [
    "# Cargar bibliotecas\n",
    "* numpy\n",
    "* pyplot de matplotlib\n",
    "* datasets de sklearn\n",
    "* mplot3d de mpl_toolkits\n",
    "\n",
    "Revisar ejemplos de https://colab.research.google.com/github/jakevdp/PythonDataScienceHandbook/blob/master/notebooks/04.12-Three-Dimensional-Plotting.ipynb"
   ]
  },
  {
   "cell_type": "code",
   "execution_count": 1,
   "metadata": {
    "colab": {},
    "colab_type": "code",
    "id": "w3PFyohPpp4C"
   },
   "outputs": [],
   "source": [
    "import numpy as np\n",
    "import matplotlib.pyplot as plt\n",
    "%matplotlib inline\n",
    "from sklearn import datasets\n",
    "from sklearn.preprocessing import MinMaxScaler\n",
    "from mpl_toolkits import mplot3d"
   ]
  },
  {
   "cell_type": "markdown",
   "metadata": {
    "colab_type": "text",
    "id": "TaD5gz90qEaw"
   },
   "source": [
    "Importar el conjunto iris"
   ]
  },
  {
   "cell_type": "code",
   "execution_count": 2,
   "metadata": {
    "colab": {},
    "colab_type": "code",
    "id": "1qeI3AE1qBKg"
   },
   "outputs": [],
   "source": [
    "iris = datasets.load_iris()\n",
    "iris = iris.data"
   ]
  },
  {
   "cell_type": "markdown",
   "metadata": {
    "colab_type": "text",
    "id": "aAuQaWkg6Chs"
   },
   "source": [
    "### Crear un vector con 3 elementos enteros que indiquen las 3 características que serán ocupadas en el resto del programa.\n",
    "\n",
    "Este vector permitirá cambiar de características para otras ejecuciones.\n",
    "Tener una variable (por ejemplo *X*) que contenga los 150 ejemplos del conjunto, pero únicamente con las 3 características seleccionadas."
   ]
  },
  {
   "cell_type": "code",
   "execution_count": 3,
   "metadata": {
    "colab": {
     "base_uri": "https://localhost:8080/",
     "height": 1000
    },
    "colab_type": "code",
    "id": "vLmCJkVPqLB6",
    "outputId": "edaa23cf-aa9d-42be-cc52-a927a3e1318e"
   },
   "outputs": [
    {
     "data": {
      "text/plain": [
       "array([[1.4, 5.1, 3.5],\n",
       "       [1.4, 4.9, 3. ],\n",
       "       [1.3, 4.7, 3.2],\n",
       "       [1.5, 4.6, 3.1],\n",
       "       [1.4, 5. , 3.6],\n",
       "       [1.7, 5.4, 3.9],\n",
       "       [1.4, 4.6, 3.4],\n",
       "       [1.5, 5. , 3.4],\n",
       "       [1.4, 4.4, 2.9],\n",
       "       [1.5, 4.9, 3.1],\n",
       "       [1.5, 5.4, 3.7],\n",
       "       [1.6, 4.8, 3.4],\n",
       "       [1.4, 4.8, 3. ],\n",
       "       [1.1, 4.3, 3. ],\n",
       "       [1.2, 5.8, 4. ],\n",
       "       [1.5, 5.7, 4.4],\n",
       "       [1.3, 5.4, 3.9],\n",
       "       [1.4, 5.1, 3.5],\n",
       "       [1.7, 5.7, 3.8],\n",
       "       [1.5, 5.1, 3.8],\n",
       "       [1.7, 5.4, 3.4],\n",
       "       [1.5, 5.1, 3.7],\n",
       "       [1. , 4.6, 3.6],\n",
       "       [1.7, 5.1, 3.3],\n",
       "       [1.9, 4.8, 3.4],\n",
       "       [1.6, 5. , 3. ],\n",
       "       [1.6, 5. , 3.4],\n",
       "       [1.5, 5.2, 3.5],\n",
       "       [1.4, 5.2, 3.4],\n",
       "       [1.6, 4.7, 3.2],\n",
       "       [1.6, 4.8, 3.1],\n",
       "       [1.5, 5.4, 3.4],\n",
       "       [1.5, 5.2, 4.1],\n",
       "       [1.4, 5.5, 4.2],\n",
       "       [1.5, 4.9, 3.1],\n",
       "       [1.2, 5. , 3.2],\n",
       "       [1.3, 5.5, 3.5],\n",
       "       [1.4, 4.9, 3.6],\n",
       "       [1.3, 4.4, 3. ],\n",
       "       [1.5, 5.1, 3.4],\n",
       "       [1.3, 5. , 3.5],\n",
       "       [1.3, 4.5, 2.3],\n",
       "       [1.3, 4.4, 3.2],\n",
       "       [1.6, 5. , 3.5],\n",
       "       [1.9, 5.1, 3.8],\n",
       "       [1.4, 4.8, 3. ],\n",
       "       [1.6, 5.1, 3.8],\n",
       "       [1.4, 4.6, 3.2],\n",
       "       [1.5, 5.3, 3.7],\n",
       "       [1.4, 5. , 3.3],\n",
       "       [4.7, 7. , 3.2],\n",
       "       [4.5, 6.4, 3.2],\n",
       "       [4.9, 6.9, 3.1],\n",
       "       [4. , 5.5, 2.3],\n",
       "       [4.6, 6.5, 2.8],\n",
       "       [4.5, 5.7, 2.8],\n",
       "       [4.7, 6.3, 3.3],\n",
       "       [3.3, 4.9, 2.4],\n",
       "       [4.6, 6.6, 2.9],\n",
       "       [3.9, 5.2, 2.7],\n",
       "       [3.5, 5. , 2. ],\n",
       "       [4.2, 5.9, 3. ],\n",
       "       [4. , 6. , 2.2],\n",
       "       [4.7, 6.1, 2.9],\n",
       "       [3.6, 5.6, 2.9],\n",
       "       [4.4, 6.7, 3.1],\n",
       "       [4.5, 5.6, 3. ],\n",
       "       [4.1, 5.8, 2.7],\n",
       "       [4.5, 6.2, 2.2],\n",
       "       [3.9, 5.6, 2.5],\n",
       "       [4.8, 5.9, 3.2],\n",
       "       [4. , 6.1, 2.8],\n",
       "       [4.9, 6.3, 2.5],\n",
       "       [4.7, 6.1, 2.8],\n",
       "       [4.3, 6.4, 2.9],\n",
       "       [4.4, 6.6, 3. ],\n",
       "       [4.8, 6.8, 2.8],\n",
       "       [5. , 6.7, 3. ],\n",
       "       [4.5, 6. , 2.9],\n",
       "       [3.5, 5.7, 2.6],\n",
       "       [3.8, 5.5, 2.4],\n",
       "       [3.7, 5.5, 2.4],\n",
       "       [3.9, 5.8, 2.7],\n",
       "       [5.1, 6. , 2.7],\n",
       "       [4.5, 5.4, 3. ],\n",
       "       [4.5, 6. , 3.4],\n",
       "       [4.7, 6.7, 3.1],\n",
       "       [4.4, 6.3, 2.3],\n",
       "       [4.1, 5.6, 3. ],\n",
       "       [4. , 5.5, 2.5],\n",
       "       [4.4, 5.5, 2.6],\n",
       "       [4.6, 6.1, 3. ],\n",
       "       [4. , 5.8, 2.6],\n",
       "       [3.3, 5. , 2.3],\n",
       "       [4.2, 5.6, 2.7],\n",
       "       [4.2, 5.7, 3. ],\n",
       "       [4.2, 5.7, 2.9],\n",
       "       [4.3, 6.2, 2.9],\n",
       "       [3. , 5.1, 2.5],\n",
       "       [4.1, 5.7, 2.8],\n",
       "       [6. , 6.3, 3.3],\n",
       "       [5.1, 5.8, 2.7],\n",
       "       [5.9, 7.1, 3. ],\n",
       "       [5.6, 6.3, 2.9],\n",
       "       [5.8, 6.5, 3. ],\n",
       "       [6.6, 7.6, 3. ],\n",
       "       [4.5, 4.9, 2.5],\n",
       "       [6.3, 7.3, 2.9],\n",
       "       [5.8, 6.7, 2.5],\n",
       "       [6.1, 7.2, 3.6],\n",
       "       [5.1, 6.5, 3.2],\n",
       "       [5.3, 6.4, 2.7],\n",
       "       [5.5, 6.8, 3. ],\n",
       "       [5. , 5.7, 2.5],\n",
       "       [5.1, 5.8, 2.8],\n",
       "       [5.3, 6.4, 3.2],\n",
       "       [5.5, 6.5, 3. ],\n",
       "       [6.7, 7.7, 3.8],\n",
       "       [6.9, 7.7, 2.6],\n",
       "       [5. , 6. , 2.2],\n",
       "       [5.7, 6.9, 3.2],\n",
       "       [4.9, 5.6, 2.8],\n",
       "       [6.7, 7.7, 2.8],\n",
       "       [4.9, 6.3, 2.7],\n",
       "       [5.7, 6.7, 3.3],\n",
       "       [6. , 7.2, 3.2],\n",
       "       [4.8, 6.2, 2.8],\n",
       "       [4.9, 6.1, 3. ],\n",
       "       [5.6, 6.4, 2.8],\n",
       "       [5.8, 7.2, 3. ],\n",
       "       [6.1, 7.4, 2.8],\n",
       "       [6.4, 7.9, 3.8],\n",
       "       [5.6, 6.4, 2.8],\n",
       "       [5.1, 6.3, 2.8],\n",
       "       [5.6, 6.1, 2.6],\n",
       "       [6.1, 7.7, 3. ],\n",
       "       [5.6, 6.3, 3.4],\n",
       "       [5.5, 6.4, 3.1],\n",
       "       [4.8, 6. , 3. ],\n",
       "       [5.4, 6.9, 3.1],\n",
       "       [5.6, 6.7, 3.1],\n",
       "       [5.1, 6.9, 3.1],\n",
       "       [5.1, 5.8, 2.7],\n",
       "       [5.9, 6.8, 3.2],\n",
       "       [5.7, 6.7, 3.3],\n",
       "       [5.2, 6.7, 3. ],\n",
       "       [5. , 6.3, 2.5],\n",
       "       [5.2, 6.5, 3. ],\n",
       "       [5.4, 6.2, 3.4],\n",
       "       [5.1, 5.9, 3. ]])"
      ]
     },
     "execution_count": 3,
     "metadata": {},
     "output_type": "execute_result"
    }
   ],
   "source": [
    "#labels = [1, 2, 3]\n",
    "#X = iris.data[:150, labels]\n",
    "\n",
    "#X[3:]\n",
    "\n",
    "labels = [2,0,1]\n",
    "#Todas las filas y las columnas 0,1,2\n",
    "X = iris[:,labels]\n",
    "X"
   ]
  },
  {
   "cell_type": "markdown",
   "metadata": {
    "colab_type": "text",
    "id": "hKw86QU-6aqE"
   },
   "source": [
    "Generar la siguiente gráfica según eejmplos de la página citada con anterioridad"
   ]
  },
  {
   "cell_type": "code",
   "execution_count": 4,
   "metadata": {
    "colab": {
     "base_uri": "https://localhost:8080/",
     "height": 248
    },
    "colab_type": "code",
    "id": "UJGVArlVqP-s",
    "outputId": "40731388-06a5-42d3-94f6-9e07ecd95b00"
   },
   "outputs": [
    {
     "data": {
      "image/png": "[encoded data removed]",
      "text/plain": [
       "<Figure size 432x288 with 1 Axes>"
      ]
     },
     "metadata": {
      "needs_background": "light"
     },
     "output_type": "display_data"
    }
   ],
   "source": [
    "fig = plt.figure()\n",
    "ax = plt.axes(projection='3d')\n",
    "ind1 = np.arange(0,50)\n",
    "ind2 = np.arange(50,100)\n",
    "ind3 = np.arange(100,150)\n",
    "ax.scatter3D(X[ind1,[0]], X[ind1,[1]], X[ind1,[2]], color='yellow');\n",
    "ax.scatter3D(X[ind2,[0]], X[ind2,[1]], X[ind2,[2]], color='black');\n",
    "ax.scatter3D(X[ind3,[0]], X[ind3,[1]], X[ind3,[2]], color='red');\n"
   ]
  },
  {
   "cell_type": "markdown",
   "metadata": {
    "colab_type": "text",
    "id": "JQ78CWxL7JDf"
   },
   "source": [
    "* Concatenar una columna con 1s al vector X para el bias.\n",
    "* dejar en X únicamente elementos de 2 clases."
   ]
  },
  {
   "cell_type": "code",
   "execution_count": 5,
   "metadata": {},
   "outputs": [],
   "source": [
    "tipo0 = np.arange(50)\n",
    "tipo1 = np.arange(50, 100)\n",
    "tipo2 = np.arange(100, 150)"
   ]
  },
  {
   "cell_type": "code",
   "execution_count": 6,
   "metadata": {},
   "outputs": [
    {
     "data": {
      "text/plain": [
       "<mpl_toolkits.mplot3d.art3d.Path3DCollection at 0x7f7f4b556cd0>"
      ]
     },
     "execution_count": 6,
     "metadata": {},
     "output_type": "execute_result"
    },
    {
     "data": {
      "image/png": "[encoded data removed]",
      "text/plain": [
       "<Figure size 432x288 with 1 Axes>"
      ]
     },
     "metadata": {
      "needs_background": "light"
     },
     "output_type": "display_data"
    }
   ],
   "source": [
    "ax = plt.axes(projection = '3d')\n",
    "ax.scatter3D( X[tipo0,labels[0]], X[tipo0,labels[1]], X[tipo0,labels[2]],color='red')\n",
    "ax.scatter3D( X[tipo1,labels[0]], X[tipo1,labels[1]], X[tipo1,labels[2]],color='blue')\n",
    "ax.scatter3D( X[tipo2,labels[0]], X[tipo2,labels[1]], X[tipo2,labels[2]],color='green')"
   ]
  },
  {
   "cell_type": "code",
   "execution_count": 7,
   "metadata": {},
   "outputs": [],
   "source": [
    "#Tomar dos clases del conjunto\n",
    "X = X[0:100,:]"
   ]
  },
  {
   "cell_type": "markdown",
   "metadata": {},
   "source": [
    "Normalizo el vector X"
   ]
  },
  {
   "cell_type": "code",
   "execution_count": 8,
   "metadata": {
    "colab": {
     "base_uri": "https://localhost:8080/",
     "height": 183
    },
    "colab_type": "code",
    "id": "MVAsEgd3uX0S",
    "outputId": "891a0650-33cf-4ef8-a250-0e67ad849bca"
   },
   "outputs": [],
   "source": [
    "mms = MinMaxScaler()"
   ]
  },
  {
   "cell_type": "code",
   "execution_count": 9,
   "metadata": {},
   "outputs": [
    {
     "data": {
      "text/plain": [
       "array([[0.09756098, 0.2962963 , 0.625     ],\n",
       "       [0.09756098, 0.22222222, 0.41666667],\n",
       "       [0.07317073, 0.14814815, 0.5       ],\n",
       "       [0.12195122, 0.11111111, 0.45833333],\n",
       "       [0.09756098, 0.25925926, 0.66666667],\n",
       "       [0.17073171, 0.40740741, 0.79166667],\n",
       "       [0.09756098, 0.11111111, 0.58333333],\n",
       "       [0.12195122, 0.25925926, 0.58333333],\n",
       "       [0.09756098, 0.03703704, 0.375     ],\n",
       "       [0.12195122, 0.22222222, 0.45833333],\n",
       "       [0.12195122, 0.40740741, 0.70833333],\n",
       "       [0.14634146, 0.18518519, 0.58333333],\n",
       "       [0.09756098, 0.18518519, 0.41666667],\n",
       "       [0.02439024, 0.        , 0.41666667],\n",
       "       [0.04878049, 0.55555556, 0.83333333],\n",
       "       [0.12195122, 0.51851852, 1.        ],\n",
       "       [0.07317073, 0.40740741, 0.79166667],\n",
       "       [0.09756098, 0.2962963 , 0.625     ],\n",
       "       [0.17073171, 0.51851852, 0.75      ],\n",
       "       [0.12195122, 0.2962963 , 0.75      ],\n",
       "       [0.17073171, 0.40740741, 0.58333333],\n",
       "       [0.12195122, 0.2962963 , 0.70833333],\n",
       "       [0.        , 0.11111111, 0.66666667],\n",
       "       [0.17073171, 0.2962963 , 0.54166667],\n",
       "       [0.2195122 , 0.18518519, 0.58333333],\n",
       "       [0.14634146, 0.25925926, 0.41666667],\n",
       "       [0.14634146, 0.25925926, 0.58333333],\n",
       "       [0.12195122, 0.33333333, 0.625     ],\n",
       "       [0.09756098, 0.33333333, 0.58333333],\n",
       "       [0.14634146, 0.14814815, 0.5       ],\n",
       "       [0.14634146, 0.18518519, 0.45833333],\n",
       "       [0.12195122, 0.40740741, 0.58333333],\n",
       "       [0.12195122, 0.33333333, 0.875     ],\n",
       "       [0.09756098, 0.44444444, 0.91666667],\n",
       "       [0.12195122, 0.22222222, 0.45833333],\n",
       "       [0.04878049, 0.25925926, 0.5       ],\n",
       "       [0.07317073, 0.44444444, 0.625     ],\n",
       "       [0.09756098, 0.22222222, 0.66666667],\n",
       "       [0.07317073, 0.03703704, 0.41666667],\n",
       "       [0.12195122, 0.2962963 , 0.58333333],\n",
       "       [0.07317073, 0.25925926, 0.625     ],\n",
       "       [0.07317073, 0.07407407, 0.125     ],\n",
       "       [0.07317073, 0.03703704, 0.5       ],\n",
       "       [0.14634146, 0.25925926, 0.625     ],\n",
       "       [0.2195122 , 0.2962963 , 0.75      ],\n",
       "       [0.09756098, 0.18518519, 0.41666667],\n",
       "       [0.14634146, 0.2962963 , 0.75      ],\n",
       "       [0.09756098, 0.11111111, 0.5       ],\n",
       "       [0.12195122, 0.37037037, 0.70833333],\n",
       "       [0.09756098, 0.25925926, 0.54166667],\n",
       "       [0.90243902, 1.        , 0.5       ],\n",
       "       [0.85365854, 0.77777778, 0.5       ],\n",
       "       [0.95121951, 0.96296296, 0.45833333],\n",
       "       [0.73170732, 0.44444444, 0.125     ],\n",
       "       [0.87804878, 0.81481481, 0.33333333],\n",
       "       [0.85365854, 0.51851852, 0.33333333],\n",
       "       [0.90243902, 0.74074074, 0.54166667],\n",
       "       [0.56097561, 0.22222222, 0.16666667],\n",
       "       [0.87804878, 0.85185185, 0.375     ],\n",
       "       [0.70731707, 0.33333333, 0.29166667],\n",
       "       [0.6097561 , 0.25925926, 0.        ],\n",
       "       [0.7804878 , 0.59259259, 0.41666667],\n",
       "       [0.73170732, 0.62962963, 0.08333333],\n",
       "       [0.90243902, 0.66666667, 0.375     ],\n",
       "       [0.63414634, 0.48148148, 0.375     ],\n",
       "       [0.82926829, 0.88888889, 0.45833333],\n",
       "       [0.85365854, 0.48148148, 0.41666667],\n",
       "       [0.75609756, 0.55555556, 0.29166667],\n",
       "       [0.85365854, 0.7037037 , 0.08333333],\n",
       "       [0.70731707, 0.48148148, 0.20833333],\n",
       "       [0.92682927, 0.59259259, 0.5       ],\n",
       "       [0.73170732, 0.66666667, 0.33333333],\n",
       "       [0.95121951, 0.74074074, 0.20833333],\n",
       "       [0.90243902, 0.66666667, 0.33333333],\n",
       "       [0.80487805, 0.77777778, 0.375     ],\n",
       "       [0.82926829, 0.85185185, 0.41666667],\n",
       "       [0.92682927, 0.92592593, 0.33333333],\n",
       "       [0.97560976, 0.88888889, 0.41666667],\n",
       "       [0.85365854, 0.62962963, 0.375     ],\n",
       "       [0.6097561 , 0.51851852, 0.25      ],\n",
       "       [0.68292683, 0.44444444, 0.16666667],\n",
       "       [0.65853659, 0.44444444, 0.16666667],\n",
       "       [0.70731707, 0.55555556, 0.29166667],\n",
       "       [1.        , 0.62962963, 0.29166667],\n",
       "       [0.85365854, 0.40740741, 0.41666667],\n",
       "       [0.85365854, 0.62962963, 0.58333333],\n",
       "       [0.90243902, 0.88888889, 0.45833333],\n",
       "       [0.82926829, 0.74074074, 0.125     ],\n",
       "       [0.75609756, 0.48148148, 0.41666667],\n",
       "       [0.73170732, 0.44444444, 0.20833333],\n",
       "       [0.82926829, 0.44444444, 0.25      ],\n",
       "       [0.87804878, 0.66666667, 0.41666667],\n",
       "       [0.73170732, 0.55555556, 0.25      ],\n",
       "       [0.56097561, 0.25925926, 0.125     ],\n",
       "       [0.7804878 , 0.48148148, 0.29166667],\n",
       "       [0.7804878 , 0.51851852, 0.41666667],\n",
       "       [0.7804878 , 0.51851852, 0.375     ],\n",
       "       [0.80487805, 0.7037037 , 0.375     ],\n",
       "       [0.48780488, 0.2962963 , 0.20833333],\n",
       "       [0.75609756, 0.51851852, 0.33333333]])"
      ]
     },
     "execution_count": 9,
     "metadata": {},
     "output_type": "execute_result"
    }
   ],
   "source": [
    "X = mms.fit_transform(X)\n",
    "X"
   ]
  },
  {
   "cell_type": "markdown",
   "metadata": {},
   "source": [
    "Vector Bias"
   ]
  },
  {
   "cell_type": "code",
   "execution_count": 10,
   "metadata": {},
   "outputs": [
    {
     "name": "stdout",
     "output_type": "stream",
     "text": [
      "(100, 1)\n",
      "(100, 3)\n"
     ]
    }
   ],
   "source": [
    "bias = np.ones((100,1))\n",
    "print(bias.shape)\n",
    "print(X.shape)"
   ]
  },
  {
   "cell_type": "code",
   "execution_count": 11,
   "metadata": {},
   "outputs": [
    {
     "data": {
      "text/plain": [
       "array([[1.        , 0.09756098, 0.2962963 , 0.625     ],\n",
       "       [1.        , 0.12195122, 0.40740741, 0.70833333],\n",
       "       [1.        , 0.17073171, 0.40740741, 0.58333333],\n",
       "       [1.        , 0.14634146, 0.18518519, 0.45833333],\n",
       "       [1.        , 0.07317073, 0.25925926, 0.625     ],\n",
       "       [1.        , 0.90243902, 1.        , 0.5       ],\n",
       "       [1.        , 0.6097561 , 0.25925926, 0.        ],\n",
       "       [1.        , 0.92682927, 0.59259259, 0.5       ],\n",
       "       [1.        , 0.68292683, 0.44444444, 0.16666667],\n",
       "       [1.        , 0.82926829, 0.44444444, 0.25      ]])"
      ]
     },
     "execution_count": 11,
     "metadata": {},
     "output_type": "execute_result"
    }
   ],
   "source": [
    "#Agregar una columna de 1's (BIAS)\n",
    "X = np.concatenate((bias,X),axis = 1)\n",
    "X[:100:10]"
   ]
  },
  {
   "cell_type": "markdown",
   "metadata": {
    "colab_type": "text",
    "id": "ds1yHxlE7wzt"
   },
   "source": [
    "\n",
    "\n",
    "```\n",
    "# Tiene formato de código\n",
    "```\n",
    "\n",
    "El vector *Y* deberá tener +1 para elementos de una clase y -1 para la otra clase. Recuerde que este ejercicio es de clasificación binaria."
   ]
  },
  {
   "cell_type": "code",
   "execution_count": 12,
   "metadata": {
    "colab": {
     "base_uri": "https://localhost:8080/",
     "height": 33
    },
    "colab_type": "code",
    "id": "u-UBlgt6wgJ7",
    "outputId": "ab9fd8b9-5dd2-4c04-b67e-9c9974b5e0f8"
   },
   "outputs": [],
   "source": [
    "#lo que se ve aqui son algunos datos\n",
    "Y = np.arange(100)\n",
    "Y = (Y >= 50)*2 - 1"
   ]
  },
  {
   "cell_type": "markdown",
   "metadata": {
    "colab_type": "text",
    "id": "krKsX_Pn797G"
   },
   "source": [
    "Genere un vector de pesos para ocupar en el algoritmo de entrenamiento.\n",
    "\n",
    "> Bloque con sangría"
   ]
  },
  {
   "cell_type": "code",
   "execution_count": 13,
   "metadata": {
    "colab": {
     "base_uri": "https://localhost:8080/",
     "height": 33
    },
    "colab_type": "code",
    "id": "rVWYQXzOv63h",
    "outputId": "a4565b22-2313-4f65-8213-646f5b45a824"
   },
   "outputs": [
    {
     "data": {
      "text/plain": [
       "(4,)"
      ]
     },
     "execution_count": 13,
     "metadata": {},
     "output_type": "execute_result"
    }
   ],
   "source": [
    "W = np.random.uniform(low = -0.2,high = 0.2,size = 4)\n",
    "W.shape"
   ]
  },
  {
   "cell_type": "markdown",
   "metadata": {
    "colab_type": "text",
    "id": "SQS--cdJ8GzS"
   },
   "source": [
    "### Definir la función signo"
   ]
  },
  {
   "cell_type": "code",
   "execution_count": 14,
   "metadata": {
    "colab": {},
    "colab_type": "code",
    "id": "YMR3HABKwL4P"
   },
   "outputs": [],
   "source": [
    "def signo(x):\n",
    "    return (x>=0) * 2 -1"
   ]
  },
  {
   "cell_type": "code",
   "execution_count": 15,
   "metadata": {},
   "outputs": [
    {
     "data": {
      "text/plain": [
       "array([ 1, -1,  1, -1,  1, -1, -1])"
      ]
     },
     "execution_count": 15,
     "metadata": {},
     "output_type": "execute_result"
    }
   ],
   "source": [
    "signo(np.array([1,-2,3,-4,5,-6,-6]))"
   ]
  },
  {
   "cell_type": "code",
   "execution_count": 16,
   "metadata": {},
   "outputs": [
    {
     "data": {
      "text/plain": [
       "6.0"
      ]
     },
     "execution_count": 16,
     "metadata": {},
     "output_type": "execute_result"
    }
   ],
   "source": [
    "rendimientos = np.array([])\n",
    "rendimientos = np.append(rendimientos,6)\n",
    "np.append(rendimientos,3)\n",
    "rendimientos[0]"
   ]
  },
  {
   "cell_type": "markdown",
   "metadata": {
    "colab_type": "text",
    "id": "phc5LMiF8LJ9"
   },
   "source": [
    "## Ejecutar el algoritmo del perceptrón. \n",
    "\n",
    "Debe guardar en una variable todos los valores de *W*, para generar la gráfica que se pedirá a continuación $\\rightarrow$ *historia*.\n",
    "* Considere una variable *niters* para llevar el número de iteraciones, ésta servirá para saber el número de cambios que sufrió *W*."
   ]
  },
  {
   "cell_type": "code",
   "execution_count": 17,
   "metadata": {
    "colab": {},
    "colab_type": "code",
    "id": "5B1sOSVnwRgl"
   },
   "outputs": [],
   "source": [
    "factor = 0.2\n",
    "niters = 0\n",
    "etapas = 100\n",
    "rendimientos = np.array([])\n",
    "history = np.array([W]) #Lista de listas\n",
    "for i in range(etapas):\n",
    "    #Elemento aleatorio\n",
    "    j = np.random.randint(0,100,1)\n",
    "    #Multiplicación de matriz con pesos\n",
    "    v = X[j,:].dot(W.T)\n",
    "    y = signo(v)\n",
    "    #Actualización de pesos\n",
    "    W = W + factor * (Y[j] - y) * X[j,:]\n",
    "    history = np.append(history,W,axis = 0) #Agregar a la lista de listas\n",
    "    respuesta = X.dot(W.T).reshape(100)\n",
    "    rendimiento = (signo(respuesta) == Y).mean()\n",
    "    rendimientos = np.append(rendimientos,rendimiento)\n",
    "    if(i > 0 and rendimientos[i] > rendimientos[i-1]):\n",
    "        best_W = W\n",
    "        best_i = niters\n",
    "        best_ren = rendimiento\n",
    "    niters += 1"
   ]
  },
  {
   "cell_type": "code",
   "execution_count": 18,
   "metadata": {},
   "outputs": [
    {
     "name": "stdout",
     "output_type": "stream",
     "text": [
      "1.0\n",
      "17\n",
      "(100,)\n",
      "(100,)\n",
      "[ True  True  True  True  True  True  True  True  True  True  True  True\n",
      "  True  True  True  True  True  True  True  True  True  True  True  True\n",
      "  True  True  True  True  True  True  True  True  True  True  True  True\n",
      "  True  True  True  True  True  True  True  True  True  True  True  True\n",
      "  True  True  True  True  True  True  True  True  True  True  True  True\n",
      "  True  True  True  True  True  True  True  True  True  True  True  True\n",
      "  True  True  True  True  True  True  True  True  True  True  True  True\n",
      "  True  True  True  True  True  True  True  True  True  True  True  True\n",
      "  True  True  True  True]\n"
     ]
    },
    {
     "data": {
      "text/plain": [
       "1.0"
      ]
     },
     "execution_count": 18,
     "metadata": {},
     "output_type": "execute_result"
    }
   ],
   "source": [
    "print(best_ren)\n",
    "print(best_i)\n",
    "\n",
    "#Rendimiento\n",
    "respuesta = X.dot(W.T).reshape(100)\n",
    "print(respuesta.shape)\n",
    "print(Y.shape)\n",
    "print(signo(respuesta) == Y)\n",
    "rendimiento = (signo(respuesta) == Y).mean()\n",
    "rendimiento"
   ]
  },
  {
   "cell_type": "markdown",
   "metadata": {},
   "source": [
    "#print(X.dot(W.T))\n",
    "#print(Y)"
   ]
  },
  {
   "cell_type": "markdown",
   "metadata": {},
   "source": [
    "### Test"
   ]
  },
  {
   "cell_type": "code",
   "execution_count": 19,
   "metadata": {},
   "outputs": [
    {
     "data": {
      "text/plain": [
       "array([56, 41, 69, 46, 12, 88, 42, 23])"
      ]
     },
     "execution_count": 19,
     "metadata": {},
     "output_type": "execute_result"
    }
   ],
   "source": [
    "lista = np.random.randint(0,100,8)\n",
    "lista"
   ]
  },
  {
   "cell_type": "code",
   "execution_count": 20,
   "metadata": {},
   "outputs": [
    {
     "name": "stdout",
     "output_type": "stream",
     "text": [
      "[[ 1]\n",
      " [-1]\n",
      " [ 1]\n",
      " [-1]\n",
      " [-1]\n",
      " [ 1]\n",
      " [-1]\n",
      " [-1]]\n"
     ]
    }
   ],
   "source": [
    "print(signo(X[lista,:].dot(W.T)))"
   ]
  },
  {
   "cell_type": "markdown",
   "metadata": {
    "colab_type": "text",
    "id": "4spa_Hkm838k"
   },
   "source": [
    "Revise cómo quedó el vector W, el vector de historia"
   ]
  },
  {
   "cell_type": "code",
   "execution_count": 21,
   "metadata": {
    "colab": {
     "base_uri": "https://localhost:8080/",
     "height": 33
    },
    "colab_type": "code",
    "id": "wd_BwlLjwmmW",
    "outputId": "5b9a784b-a0ac-48dc-db03-3ee669ad9638"
   },
   "outputs": [
    {
     "name": "stdout",
     "output_type": "stream",
     "text": [
      "[[-0.19307429  0.59107487  0.20617508 -0.57355494]] (1, 4)\n"
     ]
    }
   ],
   "source": [
    "print(W, W.shape)"
   ]
  },
  {
   "cell_type": "markdown",
   "metadata": {
    "colab_type": "text",
    "id": "VPQIUwG_8-Z7"
   },
   "source": [
    "### Muestre cómo cambio la variable de historia del vector W y genere una gráfica que muestre cómo cambiaron los valores de los pesos de la neurona."
   ]
  },
  {
   "cell_type": "code",
   "execution_count": 22,
   "metadata": {},
   "outputs": [
    {
     "name": "stdout",
     "output_type": "stream",
     "text": [
      "History:\n",
      " [[-0.19307429 -0.16990074 -0.11975084 -0.12355494]\n",
      " [ 0.20692571  0.21058707  0.17654546 -0.04022161]\n",
      " [-0.19307429  0.20083097  0.17654546 -0.20688827]\n",
      " [-0.19307429  0.20083097  0.17654546 -0.20688827]\n",
      " [ 0.20692571  0.44473341  0.28024916 -0.20688827]\n",
      " [ 0.20692571  0.44473341  0.28024916 -0.20688827]\n",
      " [ 0.20692571  0.44473341  0.28024916 -0.20688827]\n",
      " [ 0.20692571  0.44473341  0.28024916 -0.20688827]\n",
      " [ 0.20692571  0.44473341  0.28024916 -0.20688827]\n",
      " [-0.19307429  0.39595292  0.17654546 -0.44022161]\n",
      " [-0.19307429  0.39595292  0.17654546 -0.44022161]\n",
      " [-0.19307429  0.39595292  0.17654546 -0.44022161]\n",
      " [ 0.20692571  0.62034316  0.26543434 -0.37355494]\n",
      " [ 0.20692571  0.62034316  0.26543434 -0.37355494]\n",
      " [ 0.20692571  0.62034316  0.26543434 -0.37355494]\n",
      " [ 0.20692571  0.62034316  0.26543434 -0.37355494]\n",
      " [ 0.20692571  0.62034316  0.26543434 -0.37355494]\n",
      " [ 0.20692571  0.62034316  0.26543434 -0.37355494]\n",
      " [-0.19307429  0.59107487  0.20617508 -0.57355494]\n",
      " [-0.19307429  0.59107487  0.20617508 -0.57355494]\n",
      " [-0.19307429  0.59107487  0.20617508 -0.57355494]\n",
      " [-0.19307429  0.59107487  0.20617508 -0.57355494]\n",
      " [-0.19307429  0.59107487  0.20617508 -0.57355494]\n",
      " [-0.19307429  0.59107487  0.20617508 -0.57355494]\n",
      " [-0.19307429  0.59107487  0.20617508 -0.57355494]\n",
      " [-0.19307429  0.59107487  0.20617508 -0.57355494]\n",
      " [-0.19307429  0.59107487  0.20617508 -0.57355494]\n",
      " [-0.19307429  0.59107487  0.20617508 -0.57355494]\n",
      " [-0.19307429  0.59107487  0.20617508 -0.57355494]\n",
      " [-0.19307429  0.59107487  0.20617508 -0.57355494]\n",
      " [-0.19307429  0.59107487  0.20617508 -0.57355494]\n",
      " [-0.19307429  0.59107487  0.20617508 -0.57355494]\n",
      " [-0.19307429  0.59107487  0.20617508 -0.57355494]\n",
      " [-0.19307429  0.59107487  0.20617508 -0.57355494]\n",
      " [-0.19307429  0.59107487  0.20617508 -0.57355494]\n",
      " [-0.19307429  0.59107487  0.20617508 -0.57355494]\n",
      " [-0.19307429  0.59107487  0.20617508 -0.57355494]\n",
      " [-0.19307429  0.59107487  0.20617508 -0.57355494]\n",
      " [-0.19307429  0.59107487  0.20617508 -0.57355494]\n",
      " [-0.19307429  0.59107487  0.20617508 -0.57355494]\n",
      " [-0.19307429  0.59107487  0.20617508 -0.57355494]\n",
      " [-0.19307429  0.59107487  0.20617508 -0.57355494]\n",
      " [-0.19307429  0.59107487  0.20617508 -0.57355494]\n",
      " [-0.19307429  0.59107487  0.20617508 -0.57355494]\n",
      " [-0.19307429  0.59107487  0.20617508 -0.57355494]\n",
      " [-0.19307429  0.59107487  0.20617508 -0.57355494]\n",
      " [-0.19307429  0.59107487  0.20617508 -0.57355494]\n",
      " [-0.19307429  0.59107487  0.20617508 -0.57355494]\n",
      " [-0.19307429  0.59107487  0.20617508 -0.57355494]\n",
      " [-0.19307429  0.59107487  0.20617508 -0.57355494]\n",
      " [-0.19307429  0.59107487  0.20617508 -0.57355494]\n",
      " [-0.19307429  0.59107487  0.20617508 -0.57355494]\n",
      " [-0.19307429  0.59107487  0.20617508 -0.57355494]\n",
      " [-0.19307429  0.59107487  0.20617508 -0.57355494]\n",
      " [-0.19307429  0.59107487  0.20617508 -0.57355494]\n",
      " [-0.19307429  0.59107487  0.20617508 -0.57355494]\n",
      " [-0.19307429  0.59107487  0.20617508 -0.57355494]\n",
      " [-0.19307429  0.59107487  0.20617508 -0.57355494]\n",
      " [-0.19307429  0.59107487  0.20617508 -0.57355494]\n",
      " [-0.19307429  0.59107487  0.20617508 -0.57355494]\n",
      " [-0.19307429  0.59107487  0.20617508 -0.57355494]\n",
      " [-0.19307429  0.59107487  0.20617508 -0.57355494]\n",
      " [-0.19307429  0.59107487  0.20617508 -0.57355494]\n",
      " [-0.19307429  0.59107487  0.20617508 -0.57355494]\n",
      " [-0.19307429  0.59107487  0.20617508 -0.57355494]\n",
      " [-0.19307429  0.59107487  0.20617508 -0.57355494]\n",
      " [-0.19307429  0.59107487  0.20617508 -0.57355494]\n",
      " [-0.19307429  0.59107487  0.20617508 -0.57355494]\n",
      " [-0.19307429  0.59107487  0.20617508 -0.57355494]\n",
      " [-0.19307429  0.59107487  0.20617508 -0.57355494]\n",
      " [-0.19307429  0.59107487  0.20617508 -0.57355494]\n",
      " [-0.19307429  0.59107487  0.20617508 -0.57355494]\n",
      " [-0.19307429  0.59107487  0.20617508 -0.57355494]\n",
      " [-0.19307429  0.59107487  0.20617508 -0.57355494]\n",
      " [-0.19307429  0.59107487  0.20617508 -0.57355494]\n",
      " [-0.19307429  0.59107487  0.20617508 -0.57355494]\n",
      " [-0.19307429  0.59107487  0.20617508 -0.57355494]\n",
      " [-0.19307429  0.59107487  0.20617508 -0.57355494]\n",
      " [-0.19307429  0.59107487  0.20617508 -0.57355494]\n",
      " [-0.19307429  0.59107487  0.20617508 -0.57355494]\n",
      " [-0.19307429  0.59107487  0.20617508 -0.57355494]\n",
      " [-0.19307429  0.59107487  0.20617508 -0.57355494]\n",
      " [-0.19307429  0.59107487  0.20617508 -0.57355494]\n",
      " [-0.19307429  0.59107487  0.20617508 -0.57355494]\n",
      " [-0.19307429  0.59107487  0.20617508 -0.57355494]\n",
      " [-0.19307429  0.59107487  0.20617508 -0.57355494]\n",
      " [-0.19307429  0.59107487  0.20617508 -0.57355494]\n",
      " [-0.19307429  0.59107487  0.20617508 -0.57355494]\n",
      " [-0.19307429  0.59107487  0.20617508 -0.57355494]\n",
      " [-0.19307429  0.59107487  0.20617508 -0.57355494]\n",
      " [-0.19307429  0.59107487  0.20617508 -0.57355494]\n",
      " [-0.19307429  0.59107487  0.20617508 -0.57355494]\n",
      " [-0.19307429  0.59107487  0.20617508 -0.57355494]\n",
      " [-0.19307429  0.59107487  0.20617508 -0.57355494]\n",
      " [-0.19307429  0.59107487  0.20617508 -0.57355494]\n",
      " [-0.19307429  0.59107487  0.20617508 -0.57355494]\n",
      " [-0.19307429  0.59107487  0.20617508 -0.57355494]\n",
      " [-0.19307429  0.59107487  0.20617508 -0.57355494]\n",
      " [-0.19307429  0.59107487  0.20617508 -0.57355494]\n",
      " [-0.19307429  0.59107487  0.20617508 -0.57355494]\n",
      " [-0.19307429  0.59107487  0.20617508 -0.57355494]]\n"
     ]
    }
   ],
   "source": [
    "print(\"History:\\n\",history)"
   ]
  },
  {
   "cell_type": "code",
   "execution_count": 23,
   "metadata": {
    "colab": {
     "base_uri": "https://localhost:8080/",
     "height": 66
    },
    "colab_type": "code",
    "id": "Dq3mj_IlxGPW",
    "outputId": "43897352-fff0-4930-b83b-4460c169be15"
   },
   "outputs": [
    {
     "data": {
      "text/plain": [
       "[<matplotlib.lines.Line2D at 0x7f7f4b443710>]"
      ]
     },
     "execution_count": 23,
     "metadata": {},
     "output_type": "execute_result"
    },
    {
     "data": {
      "image/png": "[encoded data removed]",
      "text/plain": [
       "<Figure size 432x288 with 1 Axes>"
      ]
     },
     "metadata": {
      "needs_background": "light"
     },
     "output_type": "display_data"
    }
   ],
   "source": [
    "#print(history[:,0])\n",
    "plt.plot(np.arange(niters),history[0:niters,0])\n",
    "plt.plot(np.arange(niters),history[0:niters,1])\n",
    "plt.plot(np.arange(niters),history[0:niters,2])\n",
    "plt.plot(np.arange(niters),history[0:niters,3])"
   ]
  },
  {
   "cell_type": "code",
   "execution_count": 24,
   "metadata": {},
   "outputs": [
    {
     "data": {
      "text/plain": [
       "[<matplotlib.lines.Line2D at 0x7f7f4b3ab090>]"
      ]
     },
     "execution_count": 24,
     "metadata": {},
     "output_type": "execute_result"
    },
    {
     "data": {
      "image/png": "[encoded data removed]",
      "text/plain": [
       "<Figure size 432x288 with 1 Axes>"
      ]
     },
     "metadata": {
      "needs_background": "light"
     },
     "output_type": "display_data"
    }
   ],
   "source": [
    "plt.plot(np.arange(niters),rendimientos)"
   ]
  },
  {
   "cell_type": "code",
   "execution_count": 25,
   "metadata": {
    "colab": {
     "base_uri": "https://localhost:8080/",
     "height": 320
    },
    "colab_type": "code",
    "id": "5NXfptvNxyNy",
    "outputId": "ad651c47-3001-4174-9bce-dd15c7d58792"
   },
   "outputs": [
    {
     "name": "stdout",
     "output_type": "stream",
     "text": [
      "[1. 0. 0. 0.]\n",
      "[1. 1. 1. 1.]\n"
     ]
    }
   ],
   "source": [
    "minimos = X.min(axis = 0)\n",
    "print(minimos)\n",
    "maximos = X.max(axis = 0)\n",
    "print(maximos)"
   ]
  },
  {
   "cell_type": "code",
   "execution_count": null,
   "metadata": {
    "colab": {},
    "colab_type": "code",
    "id": "qatvJ-Iuf56q"
   },
   "outputs": [],
   "source": []
  },
  {
   "cell_type": "code",
   "execution_count": 26,
   "metadata": {
    "colab": {
     "base_uri": "https://localhost:8080/",
     "height": 33
    },
    "colab_type": "code",
    "id": "kTFdqcwQySO2",
    "outputId": "4aeb788b-01e9-400b-be63-4bf27ebca166"
   },
   "outputs": [
    {
     "name": "stdout",
     "output_type": "stream",
     "text": [
      "1 1.0000000000000002\n",
      "2 1.0\n",
      "3 1.0\n"
     ]
    }
   ],
   "source": [
    " # aqui los valores máximos y minimos del las características seleccionadas\n",
    "print(\"1\",np.max(X[:,labels[0]]))\n",
    "print(\"2\",np.max(X[:,labels[1]]))\n",
    "print(\"3\",np.max(X[:,labels[2]]))"
   ]
  },
  {
   "cell_type": "code",
   "execution_count": 27,
   "metadata": {
    "colab": {},
    "colab_type": "code",
    "id": "0tAM0Be_ymY2"
   },
   "outputs": [
    {
     "name": "stdout",
     "output_type": "stream",
     "text": [
      "[0.   0.25 0.5  0.75 1.  ]\n",
      "[0.   0.25 0.5  0.75 1.  ]\n"
     ]
    }
   ],
   "source": [
    "x = np.linspace(minimos[1],maximos[1],5)\n",
    "y = np.linspace(minimos[2],maximos[2],5)\n",
    "print(x)\n",
    "print(y)\n",
    "xx,yy = np.meshgrid(x,y)"
   ]
  },
  {
   "cell_type": "code",
   "execution_count": 28,
   "metadata": {
    "colab": {
     "base_uri": "https://localhost:8080/",
     "height": 100
    },
    "colab_type": "code",
    "id": "fzMg00Gc9Yz3",
    "outputId": "9386f32a-2726-4407-b8ef-baec8a4658ac",
    "scrolled": true
   },
   "outputs": [
    {
     "data": {
      "text/plain": [
       "array([[0.  , 0.25, 0.5 , 0.75, 1.  ],\n",
       "       [0.  , 0.25, 0.5 , 0.75, 1.  ],\n",
       "       [0.  , 0.25, 0.5 , 0.75, 1.  ],\n",
       "       [0.  , 0.25, 0.5 , 0.75, 1.  ],\n",
       "       [0.  , 0.25, 0.5 , 0.75, 1.  ]])"
      ]
     },
     "execution_count": 28,
     "metadata": {},
     "output_type": "execute_result"
    }
   ],
   "source": [
    "#valores en eje X para la malla\n",
    "xx"
   ]
  },
  {
   "cell_type": "code",
   "execution_count": 29,
   "metadata": {
    "colab": {
     "base_uri": "https://localhost:8080/",
     "height": 100
    },
    "colab_type": "code",
    "id": "1fEn2Wmx9aZS",
    "outputId": "bbe32379-c5eb-4586-d2e7-0ab0285b136f"
   },
   "outputs": [
    {
     "data": {
      "text/plain": [
       "array([[0.  , 0.  , 0.  , 0.  , 0.  ],\n",
       "       [0.25, 0.25, 0.25, 0.25, 0.25],\n",
       "       [0.5 , 0.5 , 0.5 , 0.5 , 0.5 ],\n",
       "       [0.75, 0.75, 0.75, 0.75, 0.75],\n",
       "       [1.  , 1.  , 1.  , 1.  , 1.  ]])"
      ]
     },
     "execution_count": 29,
     "metadata": {},
     "output_type": "execute_result"
    }
   ],
   "source": [
    "yy"
   ]
  },
  {
   "cell_type": "markdown",
   "metadata": {
    "colab_type": "text",
    "id": "G02PgR1Y9Nx3"
   },
   "source": [
    "## Generar la ecuación para el plano que divide a las 2 clases seleccionadas "
   ]
  },
  {
   "cell_type": "code",
   "execution_count": 30,
   "metadata": {},
   "outputs": [
    {
     "data": {
      "text/plain": [
       "array([[-0.33662736, -0.07899081,  0.17864574,  0.43628229,  0.69391884],\n",
       "       [-0.24676017,  0.01087638,  0.26851293,  0.52614948,  0.78378604],\n",
       "       [-0.15689298,  0.10074357,  0.35838012,  0.61601667,  0.87365323],\n",
       "       [-0.06702579,  0.19061076,  0.44824731,  0.70588386,  0.96352042],\n",
       "       [ 0.0228414 ,  0.28047795,  0.5381145 ,  0.79575106,  1.05338761]])"
      ]
     },
     "execution_count": 30,
     "metadata": {},
     "output_type": "execute_result"
    }
   ],
   "source": [
    "#aplicando ecuacion  para plano\n",
    "zz = (-1 * (W[0][0] + W[0][1] * xx + W[0][2] * yy)) / W[0][3]\n",
    "zz "
   ]
  },
  {
   "cell_type": "code",
   "execution_count": 31,
   "metadata": {
    "colab": {},
    "colab_type": "code",
    "id": "Hya6OHtJy47Q"
   },
   "outputs": [
    {
     "data": {
      "text/plain": [
       "array([[-0.33662736, -0.07899081,  0.17864574,  0.43628229,  0.69391884],\n",
       "       [-0.24676017,  0.01087638,  0.26851293,  0.52614948,  0.78378604],\n",
       "       [-0.15689298,  0.10074357,  0.35838012,  0.61601667,  0.87365323],\n",
       "       [-0.06702579,  0.19061076,  0.44824731,  0.70588386,  0.96352042],\n",
       "       [ 0.0228414 ,  0.28047795,  0.5381145 ,  0.79575106,  1.05338761]])"
      ]
     },
     "execution_count": 31,
     "metadata": {},
     "output_type": "execute_result"
    }
   ],
   "source": [
    "#aplicando ecuacion  para plano\n",
    "zz = (-1 * (best_W[0][0] + best_W[0][1] * xx + best_W[0][2] * yy)) / best_W[0][3]\n",
    "zz "
   ]
  },
  {
   "cell_type": "markdown",
   "metadata": {
    "colab_type": "text",
    "id": "oifNIRyO9Sqc"
   },
   "source": [
    "## Muestre una gráfica con los datos de las 2 clases usando scatter3D y el plano que las separa, éste obtenido de los pesos del perceptrón."
   ]
  },
  {
   "cell_type": "code",
   "execution_count": 32,
   "metadata": {
    "colab": {
     "base_uri": "https://localhost:8080/",
     "height": 574
    },
    "colab_type": "code",
    "id": "etAtYW5pz1XC",
    "outputId": "989a8ca7-f6e0-4f43-ceea-a99891d71e31",
    "scrolled": true
   },
   "outputs": [
    {
     "name": "stdout",
     "output_type": "stream",
     "text": [
      "(100, 4)\n"
     ]
    },
    {
     "data": {
      "image/png": "[encoded data removed]",
      "text/plain": [
       "<Figure size 720x720 with 1 Axes>"
      ]
     },
     "metadata": {
      "needs_background": "light"
     },
     "output_type": "display_data"
    }
   ],
   "source": [
    "#grafica 3D con el plano.\n",
    "plt.rcParams[\"figure.figsize\"] = (10,10)\n",
    "fig = plt.figure()\n",
    "ax = plt.axes(projection = '3d')\n",
    "tipo0 = np.arange(50)\n",
    "tipo1 = np.arange(50, 100)\n",
    "tipo2 = np.arange(100, 150)\n",
    "print(X.shape)\n",
    "ax.scatter3D( X[tipo0,1], X[tipo0,2], X[tipo0,3],color='red')\n",
    "ax.scatter3D( X[tipo1,1], X[tipo1,2], X[tipo1,3],color='green')\n",
    "ax.plot_surface(xx,yy,zz,cmap='hot')\n",
    "ax.view_init(20,100)"
   ]
  },
  {
   "cell_type": "code",
   "execution_count": null,
   "metadata": {},
   "outputs": [],
   "source": []
  }
 ],
 "metadata": {
  "colab": {
   "collapsed_sections": [],
   "name": "Copia de Ejercicio de iris perceptron 3d - limpio",
   "provenance": []
  },
  "kernelspec": {
   "display_name": "Python 3",
   "language": "python",
   "name": "python3"
  },
  "language_info": {
   "codemirror_mode": {
    "name": "ipython",
    "version": 3
   },
   "file_extension": ".py",
   "mimetype": "text/x-python",
   "name": "python",
   "nbconvert_exporter": "python",
   "pygments_lexer": "ipython3",
   "version": "3.7.4"
  }
 },
 "nbformat": 4,
 "nbformat_minor": 1
}
